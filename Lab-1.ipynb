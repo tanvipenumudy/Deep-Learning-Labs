{
 "cells": [
  {
   "cell_type": "code",
   "execution_count": 119,
   "metadata": {},
   "outputs": [],
   "source": [
    "import numpy as np \n",
    "#importing numpy as 'np'"
   ]
  },
  {
   "cell_type": "markdown",
   "metadata": {},
   "source": [
    "Generating a Numpy Array with Random Integers \n"
   ]
  },
  {
   "cell_type": "code",
   "execution_count": 4,
   "metadata": {},
   "outputs": [
    {
     "data": {
      "text/plain": [
       "array([[685, 904, 953, 322, 220],\n",
       "       [919, 890, 581, 682, 154],\n",
       "       [479, 749, 146, 430, 182],\n",
       "       [330,  33, 930, 405, 329]])"
      ]
     },
     "execution_count": 4,
     "metadata": {},
     "output_type": "execute_result"
    }
   ],
   "source": [
    "n1 = np.random.randint(9,999,(4,5))\n",
    "n1\n",
    "#n = np.array([1,2,3,4,5,6,7,8,9,10])\n",
    "#print(n)"
   ]
  },
  {
   "cell_type": "markdown",
   "metadata": {},
   "source": [
    "Creating a Numpy Array with Random Float Values "
   ]
  },
  {
   "cell_type": "code",
   "execution_count": 109,
   "metadata": {},
   "outputs": [
    {
     "data": {
      "text/plain": [
       "array([[61.00623473, 32.99151717, 82.36365056, 64.83039314, 85.97665935,\n",
       "        22.03596134, 42.82392491, 45.39703135],\n",
       "       [46.262442  , 28.94826025, 17.008214  , 74.5860076 , 41.018801  ,\n",
       "        30.99864407, 36.21946347, 40.80893724],\n",
       "       [41.8882586 , 46.27282087, 24.57065243, 37.72429426, 68.97633365,\n",
       "        40.8597184 , 39.99579792, 20.82462527]])"
      ]
     },
     "execution_count": 109,
     "metadata": {},
     "output_type": "execute_result"
    }
   ],
   "source": [
    "n2 = np.random.uniform(9,90,[3,8])\n",
    "n2\n",
    "#b = np.array([15,16,17,18,19,20],dtype='f')\n",
    "#print(b)"
   ]
  },
  {
   "cell_type": "markdown",
   "metadata": {},
   "source": [
    "Creating a Numpy Array with Randomly generated Complex Numbers"
   ]
  },
  {
   "cell_type": "code",
   "execution_count": 110,
   "metadata": {},
   "outputs": [
    {
     "data": {
      "text/plain": [
       "array([0.95684921+0.36194087j, 0.38534034+0.48054872j,\n",
       "       0.80468821+0.44215539j, 0.85340675+0.96173861j,\n",
       "       0.56802172+0.7995005j , 0.86488822+0.41566963j,\n",
       "       0.36902005+0.03253745j, 0.69961173+0.97159714j,\n",
       "       0.12345621+0.3942298j , 0.68082262+0.96007271j])"
      ]
     },
     "execution_count": 110,
     "metadata": {},
     "output_type": "execute_result"
    }
   ],
   "source": [
    "n3 = np.random.random(10) + np.random.random(10)*1j\n",
    "n3\n",
    "#a = np.array([10,20,40],dtype=\"complex\")\n",
    "#print(a)"
   ]
  },
  {
   "cell_type": "markdown",
   "metadata": {},
   "source": [
    "Printing Shape, Dimension and Size of Numpy Arrays"
   ]
  },
  {
   "cell_type": "code",
   "execution_count": 114,
   "metadata": {},
   "outputs": [
    {
     "name": "stdout",
     "output_type": "stream",
     "text": [
      "(4, 5) 2 20\n",
      "(3, 8) 2 24\n",
      "(10,) 1 10\n",
      "[[59 79 38 30]\n",
      " [55 61 20 20]\n",
      " [33 98 59 38]\n",
      " [ 4 99 22 85]]\n",
      "(4, 4)\n",
      "2\n",
      "16\n"
     ]
    }
   ],
   "source": [
    "print(n1.shape, n1.ndim, n1.size)\n",
    "print(n2.shape, n2.ndim, n2.size)\n",
    "print(n3.shape, n3.ndim, n3.size)\n",
    "\n",
    "C = np.random.randint(1,100,(4,4))\n",
    "print(C)\n",
    "print(C.shape)\n",
    "print(C.ndim)\n",
    "print(C.size)"
   ]
  },
  {
   "cell_type": "code",
   "execution_count": 83,
   "metadata": {},
   "outputs": [
    {
     "data": {
      "text/plain": [
       "numpy.ndarray"
      ]
     },
     "execution_count": 83,
     "metadata": {},
     "output_type": "execute_result"
    }
   ],
   "source": [
    "type(n1)\n",
    "#type(n2)"
   ]
  },
  {
   "cell_type": "code",
   "execution_count": 56,
   "metadata": {},
   "outputs": [
    {
     "name": "stdout",
     "output_type": "stream",
     "text": [
      "[ 0  1  2  3  4  5  6  7  8  9 10 11 12 13 14 15]\n",
      "(16,)\n",
      "[[ 0  1  2  3  4  5  6  7]\n",
      " [ 8  9 10 11 12 13 14 15]]\n",
      "[[ 0  1  2  3]\n",
      " [ 4  5  6  7]\n",
      " [ 8  9 10 11]\n",
      " [12 13 14 15]]\n"
     ]
    }
   ],
   "source": [
    "A = np.arange(16)\n",
    "print(A)\n",
    "print(A.shape)\n",
    "print(A.reshape(2,8))\n",
    "print(A.reshape(4,4))"
   ]
  },
  {
   "cell_type": "markdown",
   "metadata": {},
   "source": [
    "Addition of Two Matrices"
   ]
  },
  {
   "cell_type": "code",
   "execution_count": 89,
   "metadata": {},
   "outputs": [
    {
     "name": "stdout",
     "output_type": "stream",
     "text": [
      "A =\n",
      " [[66  3  4 30 88]\n",
      " [65 23 88 32 34]\n",
      " [69 61 85 93 37]\n",
      " [36 36 77  9 47]]\n",
      "\n",
      "B =\n",
      " [[20 31 94 31 30]\n",
      " [31 95 72 14 94]\n",
      " [26 84 62 76 59]\n",
      " [53 60 37 74 86]]\n",
      "\n",
      "A+B =\n",
      " [[ 86  34  98  61 118]\n",
      " [ 96 118 160  46 128]\n",
      " [ 95 145 147 169  96]\n",
      " [ 89  96 114  83 133]]\n"
     ]
    }
   ],
   "source": [
    "a = np.random.randint(1,100,(4,5))\n",
    "b = np.random.randint(1,100,(4,5))\n",
    "print(\"A =\\n\",a)\n",
    "print(\"\\nB =\\n\",b)\n",
    "print(\"\\nA+B =\\n\",a+b)\n",
    "#np.add(a,b)"
   ]
  },
  {
   "cell_type": "markdown",
   "metadata": {},
   "source": [
    "Transpose of a Matrix"
   ]
  },
  {
   "cell_type": "code",
   "execution_count": 96,
   "metadata": {},
   "outputs": [
    {
     "name": "stdout",
     "output_type": "stream",
     "text": [
      "[[66  3  4 30 88]\n",
      " [65 23 88 32 34]\n",
      " [69 61 85 93 37]\n",
      " [36 36 77  9 47]]\n",
      "\n",
      "Transpose of A =\n",
      " [[66 65 69 36]\n",
      " [ 3 23 61 36]\n",
      " [ 4 88 85 77]\n",
      " [30 32 93  9]\n",
      " [88 34 37 47]]\n",
      "\n",
      "Double Tranpose of A = A\n",
      " [[66  3  4 30 88]\n",
      " [65 23 88 32 34]\n",
      " [69 61 85 93 37]\n",
      " [36 36 77  9 47]]\n"
     ]
    }
   ],
   "source": [
    "print(a)\n",
    "print(\"\\nTranspose of A =\\n\",a.T)\n",
    "#print(a.transpose())\n",
    "print(\"\\nDouble Tranpose of A = A\\n\",(a.T).T)"
   ]
  },
  {
   "cell_type": "markdown",
   "metadata": {},
   "source": [
    "Dot Product"
   ]
  },
  {
   "cell_type": "code",
   "execution_count": 33,
   "metadata": {},
   "outputs": [
    {
     "data": {
      "text/plain": [
       "array([[19, 22],\n",
       "       [43, 50]])"
      ]
     },
     "execution_count": 33,
     "metadata": {},
     "output_type": "execute_result"
    }
   ],
   "source": [
    "m1 = np.array([[1,2],[3,4]])\n",
    "m2 = np.array([[5,6],[7,8]])\n",
    "np.dot(m1,m2)"
   ]
  },
  {
   "cell_type": "markdown",
   "metadata": {},
   "source": [
    "Element wise Multiplication"
   ]
  },
  {
   "cell_type": "code",
   "execution_count": 115,
   "metadata": {},
   "outputs": [
    {
     "name": "stdout",
     "output_type": "stream",
     "text": [
      "X1 =\n",
      " [[0 1 2]\n",
      " [3 4 5]\n",
      " [6 7 8]]\n",
      "\n",
      "X2 =\n",
      " [0 1 2]\n",
      "\n",
      "Element wise Multiplication =\n",
      " [[ 0  1  4]\n",
      " [ 0  4 10]\n",
      " [ 0  7 16]]\n",
      "[[ 0  1  4]\n",
      " [ 0  4 10]\n",
      " [ 0  7 16]]\n"
     ]
    }
   ],
   "source": [
    "np.multiply(55,2)\n",
    "x1 = np.arange(9).reshape(3,3)\n",
    "x2 = np.arange(3)\n",
    "print(\"X1 =\\n\",x1)\n",
    "print(\"\\nX2 =\\n\",x2)\n",
    "print(\"\\nElement wise Multiplication =\\n\",np.multiply(x1,x2))\n",
    "#print(x1*x2)"
   ]
  },
  {
   "cell_type": "markdown",
   "metadata": {},
   "source": [
    "Accessing Matrix Elements - Rows and Columns"
   ]
  },
  {
   "cell_type": "code",
   "execution_count": 62,
   "metadata": {},
   "outputs": [
    {
     "name": "stdout",
     "output_type": "stream",
     "text": [
      "[[ 0  1  2  3]\n",
      " [ 4  5  6  7]\n",
      " [ 8  9 10 11]\n",
      " [12 13 14 15]]\n",
      "1\n",
      "7\n",
      "15\n"
     ]
    }
   ],
   "source": [
    "z = np.arange(16).reshape(4,4)\n",
    "print(z)\n",
    "print(z[0,1]) #Element - First Row Second Column\n",
    "print(z[1,3]) #Element - Second Row Fourth Column\n",
    "print(z[-1,-1]) #Element - Last Row Last Column"
   ]
  },
  {
   "cell_type": "code",
   "execution_count": 66,
   "metadata": {},
   "outputs": [
    {
     "name": "stdout",
     "output_type": "stream",
     "text": [
      "[[[ 0  1  2]\n",
      "  [ 3  4  5]\n",
      "  [ 6  7  8]]\n",
      "\n",
      " [[ 9 10 11]\n",
      "  [12 13 14]\n",
      "  [15 16 17]]\n",
      "\n",
      " [[18 19 20]\n",
      "  [21 22 23]\n",
      "  [24 25 26]]]\n",
      "5\n"
     ]
    }
   ],
   "source": [
    "z1 = np.arange(27).reshape(3,3,3)\n",
    "print(z1)\n",
    "print(z1[0,1,2]) #Third Element of Second Array of First Array"
   ]
  },
  {
   "cell_type": "markdown",
   "metadata": {},
   "source": [
    "Slicing "
   ]
  },
  {
   "cell_type": "code",
   "execution_count": 80,
   "metadata": {},
   "outputs": [
    {
     "name": "stdout",
     "output_type": "stream",
     "text": [
      "[[102  18  48  70  91]\n",
      " [ 11  72  97  75 189]\n",
      " [ 27  67 161 181  60]\n",
      " [120 111  57 101  61]\n",
      " [ 81 122 148 109  85]]\n",
      "[[161 181  60]\n",
      " [ 57 101  61]\n",
      " [148 109  85]]\n",
      "[[171 184 111 146 159]\n",
      " [141 151  53 176 154]\n",
      " [ 31 197 139 112 180]\n",
      " [ 97  77  78  41 158]\n",
      " [ 36 145 140  81 145]]\n",
      "[[171 184 111]\n",
      " [141 151  53]\n",
      " [ 31 197 139]]\n",
      "[[0 1 2 3 4]\n",
      " [5 6 7 8 9]]\n",
      "[6 7 8]\n"
     ]
    }
   ],
   "source": [
    "p = np.random.randint(10,200,(5,5))\n",
    "print(p)\n",
    "print(p[2:,2:])\n",
    "p1 = np.random.randint(10,200,(5,5))\n",
    "print(p1)\n",
    "print(p1[:-2,:-2])\n",
    "p2 = np.arange(10).reshape(2,5)\n",
    "print(p2)\n",
    "print(p2[1,1:4])\n",
    "#print(p2[0:2,2])"
   ]
  },
  {
   "cell_type": "code",
   "execution_count": 79,
   "metadata": {},
   "outputs": [
    {
     "name": "stdout",
     "output_type": "stream",
     "text": [
      "[0 1 2 3 4 5 6 7 8 9]\n",
      "[4 5 6 7 8 9]\n"
     ]
    }
   ],
   "source": [
    "z1 = np.arange(10)\n",
    "print(z1)\n",
    "print(z1[4:])\n",
    "#print(z1[:4])\n",
    "#print(z1[-3:-1])\n",
    "#print(z1[1:5:2])\n",
    "#print(z1[::2])"
   ]
  },
  {
   "cell_type": "markdown",
   "metadata": {},
   "source": [
    "Reversing"
   ]
  },
  {
   "cell_type": "code",
   "execution_count": 87,
   "metadata": {},
   "outputs": [
    {
     "name": "stdout",
     "output_type": "stream",
     "text": [
      "[[12 29  4 21]\n",
      " [16  9 20 15]\n",
      " [18  9  7  9]\n",
      " [11 18 27  1]]\n",
      "[[11 18 27  1]\n",
      " [18  9  7  9]\n",
      " [16  9 20 15]\n",
      " [12 29  4 21]]\n",
      "[7 6 5 4 3 2 1]\n"
     ]
    }
   ],
   "source": [
    "R = np.random.randint(1,30,(4,4))\n",
    "print(R)\n",
    "R = R[::-1]\n",
    "print(R)\n",
    "R1 = np.array([1,2,3,4,5,6,7])\n",
    "R1 = R1[::-1]\n",
    "print(R1)"
   ]
  },
  {
   "cell_type": "markdown",
   "metadata": {},
   "source": [
    "Downloading data through URLs and importing into Numpy Arrays"
   ]
  },
  {
   "cell_type": "code",
   "execution_count": 105,
   "metadata": {},
   "outputs": [
    {
     "name": "stdout",
     "output_type": "stream",
     "text": [
      "<class 'numpy.ndarray'>\n",
      "[[ 1.07  0.44  1.5   0.2   3.2   1.18  0.09  1.44  1.52  2.44  0.78  0.02]\n",
      " [ 0.27  1.13  1.72  4.14  2.66  0.61  1.03  1.4  18.16  2.24  0.29  0.5 ]]\n",
      "[ 0.27  1.13  1.72  4.14  2.66  0.61  1.03  1.4  18.16  2.24  0.29  0.5 ]\n"
     ]
    }
   ],
   "source": [
    "import csv\n",
    "from numpy import genfromtxt\n",
    "N = genfromtxt('https://ndownloader.figshare.com/files/12707792', delimiter=',')\n",
    "print(type(N))\n",
    "print(N)\n",
    "print(N[1])"
   ]
  },
  {
   "cell_type": "code",
   "execution_count": null,
   "metadata": {},
   "outputs": [],
   "source": []
  }
 ],
 "metadata": {
  "kernelspec": {
   "display_name": "Python 3",
   "language": "python",
   "name": "python3"
  },
  "language_info": {
   "codemirror_mode": {
    "name": "ipython",
    "version": 3
   },
   "file_extension": ".py",
   "mimetype": "text/x-python",
   "name": "python",
   "nbconvert_exporter": "python",
   "pygments_lexer": "ipython3",
   "version": "3.7.0"
  }
 },
 "nbformat": 4,
 "nbformat_minor": 2
}

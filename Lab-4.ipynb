{
  "nbformat": 4,
  "nbformat_minor": 0,
  "metadata": {
    "colab": {
      "name": "Lab-4 E18CSE187 Tanvi P.ipynb",
      "provenance": [],
      "collapsed_sections": []
    },
    "kernelspec": {
      "name": "python3",
      "display_name": "Python 3"
    }
  },
  "cells": [
    {
      "cell_type": "code",
      "metadata": {
        "id": "5zRx9b4KMq2v",
        "colab_type": "code",
        "colab": {
          "resources": {
            "http://localhost:8080/nbextensions/google.colab/files.js": {
              "data": "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",
              "ok": true,
              "headers": [
                [
                  "content-type",
                  "application/javascript"
                ]
              ],
              "status": 200,
              "status_text": ""
            }
          },
          "base_uri": "https://localhost:8080/",
          "height": 73
        },
        "outputId": "f1b27d8c-7263-4a8a-f7e6-04d658c8cf0b"
      },
      "source": [
        "from google.colab import files\n",
        "uploaded = files.upload()"
      ],
      "execution_count": 115,
      "outputs": [
        {
          "output_type": "display_data",
          "data": {
            "text/html": [
              "\n",
              "     <input type=\"file\" id=\"files-fabacdc9-536f-462d-9d68-9e2fb4d6b370\" name=\"files[]\" multiple disabled\n",
              "        style=\"border:none\" />\n",
              "     <output id=\"result-fabacdc9-536f-462d-9d68-9e2fb4d6b370\">\n",
              "      Upload widget is only available when the cell has been executed in the\n",
              "      current browser session. Please rerun this cell to enable.\n",
              "      </output>\n",
              "      <script src=\"/nbextensions/google.colab/files.js\"></script> "
            ],
            "text/plain": [
              "<IPython.core.display.HTML object>"
            ]
          },
          "metadata": {
            "tags": []
          }
        },
        {
          "output_type": "stream",
          "text": [
            "Saving Quotes.xlsx to Quotes (2).xlsx\n"
          ],
          "name": "stdout"
        }
      ]
    },
    {
      "cell_type": "code",
      "metadata": {
        "id": "LTjvlz7SOwzj",
        "colab_type": "code",
        "colab": {}
      },
      "source": [
        "import pandas as pd\n",
        "data=pd.read_excel('Quotes (2).xlsx')"
      ],
      "execution_count": 116,
      "outputs": []
    },
    {
      "cell_type": "code",
      "metadata": {
        "id": "3KYnnb7_Ow-C",
        "colab_type": "code",
        "colab": {
          "base_uri": "https://localhost:8080/",
          "height": 1000
        },
        "outputId": "f97869ac-fa5f-4f5a-db13-1645afaa8e6b"
      },
      "source": [
        "data=data.sample(frac=1).reset_index(drop=True)\n",
        "data"
      ],
      "execution_count": 117,
      "outputs": [
        {
          "output_type": "execute_result",
          "data": {
            "text/html": [
              "<div>\n",
              "<style scoped>\n",
              "    .dataframe tbody tr th:only-of-type {\n",
              "        vertical-align: middle;\n",
              "    }\n",
              "\n",
              "    .dataframe tbody tr th {\n",
              "        vertical-align: top;\n",
              "    }\n",
              "\n",
              "    .dataframe thead th {\n",
              "        text-align: right;\n",
              "    }\n",
              "</style>\n",
              "<table border=\"1\" class=\"dataframe\">\n",
              "  <thead>\n",
              "    <tr style=\"text-align: right;\">\n",
              "      <th></th>\n",
              "      <th>Sentences</th>\n",
              "      <th>Output</th>\n",
              "    </tr>\n",
              "  </thead>\n",
              "  <tbody>\n",
              "    <tr>\n",
              "      <th>0</th>\n",
              "      <td>Hard work is the key to success.</td>\n",
              "      <td>1</td>\n",
              "    </tr>\n",
              "    <tr>\n",
              "      <th>1</th>\n",
              "      <td>Keep panicking, keep being miserable.</td>\n",
              "      <td>0</td>\n",
              "    </tr>\n",
              "    <tr>\n",
              "      <th>2</th>\n",
              "      <td>Success is not an accident, it is hard work, p...</td>\n",
              "      <td>1</td>\n",
              "    </tr>\n",
              "    <tr>\n",
              "      <th>3</th>\n",
              "      <td>Try your best everyday</td>\n",
              "      <td>1</td>\n",
              "    </tr>\n",
              "    <tr>\n",
              "      <th>4</th>\n",
              "      <td>Right now is the moment to get started.</td>\n",
              "      <td>1</td>\n",
              "    </tr>\n",
              "    <tr>\n",
              "      <th>5</th>\n",
              "      <td>Stay demotivated.</td>\n",
              "      <td>0</td>\n",
              "    </tr>\n",
              "    <tr>\n",
              "      <th>6</th>\n",
              "      <td>It is going to get worse anyway.</td>\n",
              "      <td>0</td>\n",
              "    </tr>\n",
              "    <tr>\n",
              "      <th>7</th>\n",
              "      <td>Death is forever.</td>\n",
              "      <td>0</td>\n",
              "    </tr>\n",
              "    <tr>\n",
              "      <th>8</th>\n",
              "      <td>Always complain.</td>\n",
              "      <td>0</td>\n",
              "    </tr>\n",
              "    <tr>\n",
              "      <th>9</th>\n",
              "      <td>Yes it is going to be hard but it is going to ...</td>\n",
              "      <td>1</td>\n",
              "    </tr>\n",
              "    <tr>\n",
              "      <th>10</th>\n",
              "      <td>Do not try to be successful</td>\n",
              "      <td>0</td>\n",
              "    </tr>\n",
              "    <tr>\n",
              "      <th>11</th>\n",
              "      <td>Be kind to everyone, show sympathy, help other...</td>\n",
              "      <td>1</td>\n",
              "    </tr>\n",
              "    <tr>\n",
              "      <th>12</th>\n",
              "      <td>Always maintain bad relationships.</td>\n",
              "      <td>0</td>\n",
              "    </tr>\n",
              "    <tr>\n",
              "      <th>13</th>\n",
              "      <td>Experience is a teacher for a better tomorrow.</td>\n",
              "      <td>1</td>\n",
              "    </tr>\n",
              "    <tr>\n",
              "      <th>14</th>\n",
              "      <td>Work harder than you did yesterday.</td>\n",
              "      <td>1</td>\n",
              "    </tr>\n",
              "    <tr>\n",
              "      <th>15</th>\n",
              "      <td>Everybody sucks at something.</td>\n",
              "      <td>0</td>\n",
              "    </tr>\n",
              "    <tr>\n",
              "      <th>16</th>\n",
              "      <td>Success is a journey not a destination.</td>\n",
              "      <td>1</td>\n",
              "    </tr>\n",
              "    <tr>\n",
              "      <th>17</th>\n",
              "      <td>Push yourself because no one else is going to ...</td>\n",
              "      <td>1</td>\n",
              "    </tr>\n",
              "    <tr>\n",
              "      <th>18</th>\n",
              "      <td>Try to be the best version of yourself each day</td>\n",
              "      <td>1</td>\n",
              "    </tr>\n",
              "    <tr>\n",
              "      <th>19</th>\n",
              "      <td>Happiness is temporary.</td>\n",
              "      <td>0</td>\n",
              "    </tr>\n",
              "    <tr>\n",
              "      <th>20</th>\n",
              "      <td>Be over confident, ego and attitude matters</td>\n",
              "      <td>0</td>\n",
              "    </tr>\n",
              "    <tr>\n",
              "      <th>21</th>\n",
              "      <td>Live your life each day as if it is your last</td>\n",
              "      <td>1</td>\n",
              "    </tr>\n",
              "    <tr>\n",
              "      <th>22</th>\n",
              "      <td>Do not work hard.</td>\n",
              "      <td>0</td>\n",
              "    </tr>\n",
              "    <tr>\n",
              "      <th>23</th>\n",
              "      <td>Success can be achieved by sleeping all day.</td>\n",
              "      <td>0</td>\n",
              "    </tr>\n",
              "    <tr>\n",
              "      <th>24</th>\n",
              "      <td>Never ever give up.</td>\n",
              "      <td>1</td>\n",
              "    </tr>\n",
              "    <tr>\n",
              "      <th>25</th>\n",
              "      <td>Bad days are coming.</td>\n",
              "      <td>0</td>\n",
              "    </tr>\n",
              "    <tr>\n",
              "      <th>26</th>\n",
              "      <td>It is never too late to start anything.</td>\n",
              "      <td>1</td>\n",
              "    </tr>\n",
              "    <tr>\n",
              "      <th>27</th>\n",
              "      <td>A goal without a plan is just a wish.</td>\n",
              "      <td>1</td>\n",
              "    </tr>\n",
              "    <tr>\n",
              "      <th>28</th>\n",
              "      <td>If you can dream it, you can do it.</td>\n",
              "      <td>1</td>\n",
              "    </tr>\n",
              "    <tr>\n",
              "      <th>29</th>\n",
              "      <td>Pessimism is the key to success.</td>\n",
              "      <td>0</td>\n",
              "    </tr>\n",
              "    <tr>\n",
              "      <th>30</th>\n",
              "      <td>Success is only achieved when you step out of ...</td>\n",
              "      <td>1</td>\n",
              "    </tr>\n",
              "    <tr>\n",
              "      <th>31</th>\n",
              "      <td>Try and try until you succeed.</td>\n",
              "      <td>1</td>\n",
              "    </tr>\n",
              "    <tr>\n",
              "      <th>32</th>\n",
              "      <td>Dream big, stay positive, work hard and enjoy ...</td>\n",
              "      <td>1</td>\n",
              "    </tr>\n",
              "    <tr>\n",
              "      <th>33</th>\n",
              "      <td>You will win if you work hard.</td>\n",
              "      <td>1</td>\n",
              "    </tr>\n",
              "    <tr>\n",
              "      <th>34</th>\n",
              "      <td>There is no limit to what you can do.</td>\n",
              "      <td>1</td>\n",
              "    </tr>\n",
              "    <tr>\n",
              "      <th>35</th>\n",
              "      <td>Focus on your goals.</td>\n",
              "      <td>1</td>\n",
              "    </tr>\n",
              "    <tr>\n",
              "      <th>36</th>\n",
              "      <td>Love what you do and do what you love.</td>\n",
              "      <td>1</td>\n",
              "    </tr>\n",
              "    <tr>\n",
              "      <th>37</th>\n",
              "      <td>Be lazy and win the life.</td>\n",
              "      <td>0</td>\n",
              "    </tr>\n",
              "    <tr>\n",
              "      <th>38</th>\n",
              "      <td>Be jealous of others and always do things late</td>\n",
              "      <td>0</td>\n",
              "    </tr>\n",
              "    <tr>\n",
              "      <th>39</th>\n",
              "      <td>Sleep late, wake up late.</td>\n",
              "      <td>0</td>\n",
              "    </tr>\n",
              "    <tr>\n",
              "      <th>40</th>\n",
              "      <td>You can't do it, go back to bed.</td>\n",
              "      <td>0</td>\n",
              "    </tr>\n",
              "    <tr>\n",
              "      <th>41</th>\n",
              "      <td>Word hard to get it done, sweat and sweat</td>\n",
              "      <td>1</td>\n",
              "    </tr>\n",
              "    <tr>\n",
              "      <th>42</th>\n",
              "      <td>Laziness is the key to success</td>\n",
              "      <td>0</td>\n",
              "    </tr>\n",
              "    <tr>\n",
              "      <th>43</th>\n",
              "      <td>Crying and lying are good</td>\n",
              "      <td>0</td>\n",
              "    </tr>\n",
              "    <tr>\n",
              "      <th>44</th>\n",
              "      <td>Be sad if you want to be successful.</td>\n",
              "      <td>0</td>\n",
              "    </tr>\n",
              "    <tr>\n",
              "      <th>45</th>\n",
              "      <td>Escape from good things in life.</td>\n",
              "      <td>0</td>\n",
              "    </tr>\n",
              "    <tr>\n",
              "      <th>46</th>\n",
              "      <td>Everyone is ugly, nobody is beautiful.</td>\n",
              "      <td>0</td>\n",
              "    </tr>\n",
              "    <tr>\n",
              "      <th>47</th>\n",
              "      <td>Stay positive and make it happen.</td>\n",
              "      <td>1</td>\n",
              "    </tr>\n",
              "    <tr>\n",
              "      <th>48</th>\n",
              "      <td>Do not eat on time to stay fit.</td>\n",
              "      <td>0</td>\n",
              "    </tr>\n",
              "    <tr>\n",
              "      <th>49</th>\n",
              "      <td>Do not wake up early.</td>\n",
              "      <td>0</td>\n",
              "    </tr>\n",
              "  </tbody>\n",
              "</table>\n",
              "</div>"
            ],
            "text/plain": [
              "                                            Sentences  Output\n",
              "0                    Hard work is the key to success.       1\n",
              "1               Keep panicking, keep being miserable.       0\n",
              "2   Success is not an accident, it is hard work, p...       1\n",
              "3                              Try your best everyday       1\n",
              "4             Right now is the moment to get started.       1\n",
              "5                                   Stay demotivated.       0\n",
              "6                    It is going to get worse anyway.       0\n",
              "7                                   Death is forever.       0\n",
              "8                                    Always complain.       0\n",
              "9   Yes it is going to be hard but it is going to ...       1\n",
              "10                        Do not try to be successful       0\n",
              "11  Be kind to everyone, show sympathy, help other...       1\n",
              "12                 Always maintain bad relationships.       0\n",
              "13     Experience is a teacher for a better tomorrow.       1\n",
              "14                Work harder than you did yesterday.       1\n",
              "15                      Everybody sucks at something.       0\n",
              "16            Success is a journey not a destination.       1\n",
              "17  Push yourself because no one else is going to ...       1\n",
              "18    Try to be the best version of yourself each day       1\n",
              "19                            Happiness is temporary.       0\n",
              "20        Be over confident, ego and attitude matters       0\n",
              "21      Live your life each day as if it is your last       1\n",
              "22                                  Do not work hard.       0\n",
              "23       Success can be achieved by sleeping all day.       0\n",
              "24                                Never ever give up.       1\n",
              "25                               Bad days are coming.       0\n",
              "26            It is never too late to start anything.       1\n",
              "27              A goal without a plan is just a wish.       1\n",
              "28                If you can dream it, you can do it.       1\n",
              "29                   Pessimism is the key to success.       0\n",
              "30  Success is only achieved when you step out of ...       1\n",
              "31                     Try and try until you succeed.       1\n",
              "32  Dream big, stay positive, work hard and enjoy ...       1\n",
              "33                     You will win if you work hard.       1\n",
              "34              There is no limit to what you can do.       1\n",
              "35                               Focus on your goals.       1\n",
              "36             Love what you do and do what you love.       1\n",
              "37                          Be lazy and win the life.       0\n",
              "38     Be jealous of others and always do things late       0\n",
              "39                          Sleep late, wake up late.       0\n",
              "40                   You can't do it, go back to bed.       0\n",
              "41          Word hard to get it done, sweat and sweat       1\n",
              "42                     Laziness is the key to success       0\n",
              "43                         Crying and lying are good        0\n",
              "44               Be sad if you want to be successful.       0\n",
              "45                   Escape from good things in life.       0\n",
              "46             Everyone is ugly, nobody is beautiful.       0\n",
              "47                  Stay positive and make it happen.       1\n",
              "48                    Do not eat on time to stay fit.       0\n",
              "49                              Do not wake up early.       0"
            ]
          },
          "metadata": {
            "tags": []
          },
          "execution_count": 117
        }
      ]
    },
    {
      "cell_type": "code",
      "metadata": {
        "id": "nvOwQ-6bCkFO",
        "colab_type": "code",
        "colab": {}
      },
      "source": [
        "#data.shape"
      ],
      "execution_count": 185,
      "outputs": []
    },
    {
      "cell_type": "code",
      "metadata": {
        "id": "zPXdfILhOxAE",
        "colab_type": "code",
        "colab": {
          "base_uri": "https://localhost:8080/",
          "height": 34
        },
        "outputId": "85dd079d-c929-4578-845b-3fa1fcd6a4da"
      },
      "source": [
        "print(list(data))"
      ],
      "execution_count": 119,
      "outputs": [
        {
          "output_type": "stream",
          "text": [
            "['Sentences', 'Output']\n"
          ],
          "name": "stdout"
        }
      ]
    },
    {
      "cell_type": "code",
      "metadata": {
        "id": "gr9Zgsh7OxC6",
        "colab_type": "code",
        "colab": {
          "base_uri": "https://localhost:8080/",
          "height": 50
        },
        "outputId": "c7b8be49-3aec-4e39-e983-920a4e2137bf"
      },
      "source": [
        "data['Sentences']=data['Sentences'].str.lower()\n",
        "eg=data.iloc[0]\n",
        "print(eg['Sentences'])\n",
        "print(eg['Output'])"
      ],
      "execution_count": 120,
      "outputs": [
        {
          "output_type": "stream",
          "text": [
            "hard work is the key to success.\n",
            "1\n"
          ],
          "name": "stdout"
        }
      ]
    },
    {
      "cell_type": "code",
      "metadata": {
        "id": "Lfn1a1O4UmO5",
        "colab_type": "code",
        "colab": {
          "base_uri": "https://localhost:8080/",
          "height": 67
        },
        "outputId": "ff6d7c94-62ea-4508-ddad-2769dd134605"
      },
      "source": [
        "import nltk\n",
        "nltk.download('punkt')"
      ],
      "execution_count": 121,
      "outputs": [
        {
          "output_type": "stream",
          "text": [
            "[nltk_data] Downloading package punkt to /root/nltk_data...\n",
            "[nltk_data]   Package punkt is already up-to-date!\n"
          ],
          "name": "stdout"
        },
        {
          "output_type": "execute_result",
          "data": {
            "text/plain": [
              "True"
            ]
          },
          "metadata": {
            "tags": []
          },
          "execution_count": 121
        }
      ]
    },
    {
      "cell_type": "code",
      "metadata": {
        "id": "ZPBlSyC4OxFu",
        "colab_type": "code",
        "colab": {}
      },
      "source": [
        "def identify_tokens(row):\n",
        "    Sentences = row['Sentences']\n",
        "    tokens = nltk.word_tokenize(Sentences)\n",
        "    token_words = [w for w in tokens if w.isalpha()]\n",
        "    return token_words\n",
        "\n",
        "data['words'] = data.apply(identify_tokens, axis=1)"
      ],
      "execution_count": 122,
      "outputs": []
    },
    {
      "cell_type": "code",
      "metadata": {
        "id": "oBRMVoWqOxIu",
        "colab_type": "code",
        "colab": {
          "base_uri": "https://localhost:8080/",
          "height": 195
        },
        "outputId": "dcd4a8c7-ea17-45e1-8a10-23e9fe68d8a0"
      },
      "source": [
        "data.head()"
      ],
      "execution_count": 123,
      "outputs": [
        {
          "output_type": "execute_result",
          "data": {
            "text/html": [
              "<div>\n",
              "<style scoped>\n",
              "    .dataframe tbody tr th:only-of-type {\n",
              "        vertical-align: middle;\n",
              "    }\n",
              "\n",
              "    .dataframe tbody tr th {\n",
              "        vertical-align: top;\n",
              "    }\n",
              "\n",
              "    .dataframe thead th {\n",
              "        text-align: right;\n",
              "    }\n",
              "</style>\n",
              "<table border=\"1\" class=\"dataframe\">\n",
              "  <thead>\n",
              "    <tr style=\"text-align: right;\">\n",
              "      <th></th>\n",
              "      <th>Sentences</th>\n",
              "      <th>Output</th>\n",
              "      <th>words</th>\n",
              "    </tr>\n",
              "  </thead>\n",
              "  <tbody>\n",
              "    <tr>\n",
              "      <th>0</th>\n",
              "      <td>hard work is the key to success.</td>\n",
              "      <td>1</td>\n",
              "      <td>[hard, work, is, the, key, to, success]</td>\n",
              "    </tr>\n",
              "    <tr>\n",
              "      <th>1</th>\n",
              "      <td>keep panicking, keep being miserable.</td>\n",
              "      <td>0</td>\n",
              "      <td>[keep, panicking, keep, being, miserable]</td>\n",
              "    </tr>\n",
              "    <tr>\n",
              "      <th>2</th>\n",
              "      <td>success is not an accident, it is hard work, p...</td>\n",
              "      <td>1</td>\n",
              "      <td>[success, is, not, an, accident, it, is, hard,...</td>\n",
              "    </tr>\n",
              "    <tr>\n",
              "      <th>3</th>\n",
              "      <td>try your best everyday</td>\n",
              "      <td>1</td>\n",
              "      <td>[try, your, best, everyday]</td>\n",
              "    </tr>\n",
              "    <tr>\n",
              "      <th>4</th>\n",
              "      <td>right now is the moment to get started.</td>\n",
              "      <td>1</td>\n",
              "      <td>[right, now, is, the, moment, to, get, started]</td>\n",
              "    </tr>\n",
              "  </tbody>\n",
              "</table>\n",
              "</div>"
            ],
            "text/plain": [
              "                                           Sentences  ...                                              words\n",
              "0                   hard work is the key to success.  ...            [hard, work, is, the, key, to, success]\n",
              "1              keep panicking, keep being miserable.  ...          [keep, panicking, keep, being, miserable]\n",
              "2  success is not an accident, it is hard work, p...  ...  [success, is, not, an, accident, it, is, hard,...\n",
              "3                             try your best everyday  ...                        [try, your, best, everyday]\n",
              "4            right now is the moment to get started.  ...    [right, now, is, the, moment, to, get, started]\n",
              "\n",
              "[5 rows x 3 columns]"
            ]
          },
          "metadata": {
            "tags": []
          },
          "execution_count": 123
        }
      ]
    },
    {
      "cell_type": "code",
      "metadata": {
        "id": "q28psxhRTvH9",
        "colab_type": "code",
        "colab": {}
      },
      "source": [
        "from nltk.stem import PorterStemmer\n",
        "stemming = PorterStemmer()"
      ],
      "execution_count": 124,
      "outputs": []
    },
    {
      "cell_type": "code",
      "metadata": {
        "id": "KcFhFKAbTvJy",
        "colab_type": "code",
        "colab": {}
      },
      "source": [
        "def stem_list(row):\n",
        "    my_list = row['words']\n",
        "    stemmed_list = [stemming.stem(word) for word in my_list]\n",
        "    return (stemmed_list)\n",
        "\n",
        "data['stemmed_words'] = data.apply(stem_list, axis=1)"
      ],
      "execution_count": 125,
      "outputs": []
    },
    {
      "cell_type": "code",
      "metadata": {
        "id": "rUHm1lhYTvOt",
        "colab_type": "code",
        "colab": {
          "base_uri": "https://localhost:8080/",
          "height": 195
        },
        "outputId": "fb99c579-3897-46ac-9023-ed278b0a286a"
      },
      "source": [
        "data.head()"
      ],
      "execution_count": 126,
      "outputs": [
        {
          "output_type": "execute_result",
          "data": {
            "text/html": [
              "<div>\n",
              "<style scoped>\n",
              "    .dataframe tbody tr th:only-of-type {\n",
              "        vertical-align: middle;\n",
              "    }\n",
              "\n",
              "    .dataframe tbody tr th {\n",
              "        vertical-align: top;\n",
              "    }\n",
              "\n",
              "    .dataframe thead th {\n",
              "        text-align: right;\n",
              "    }\n",
              "</style>\n",
              "<table border=\"1\" class=\"dataframe\">\n",
              "  <thead>\n",
              "    <tr style=\"text-align: right;\">\n",
              "      <th></th>\n",
              "      <th>Sentences</th>\n",
              "      <th>Output</th>\n",
              "      <th>words</th>\n",
              "      <th>stemmed_words</th>\n",
              "    </tr>\n",
              "  </thead>\n",
              "  <tbody>\n",
              "    <tr>\n",
              "      <th>0</th>\n",
              "      <td>hard work is the key to success.</td>\n",
              "      <td>1</td>\n",
              "      <td>[hard, work, is, the, key, to, success]</td>\n",
              "      <td>[hard, work, is, the, key, to, success]</td>\n",
              "    </tr>\n",
              "    <tr>\n",
              "      <th>1</th>\n",
              "      <td>keep panicking, keep being miserable.</td>\n",
              "      <td>0</td>\n",
              "      <td>[keep, panicking, keep, being, miserable]</td>\n",
              "      <td>[keep, panick, keep, be, miser]</td>\n",
              "    </tr>\n",
              "    <tr>\n",
              "      <th>2</th>\n",
              "      <td>success is not an accident, it is hard work, p...</td>\n",
              "      <td>1</td>\n",
              "      <td>[success, is, not, an, accident, it, is, hard,...</td>\n",
              "      <td>[success, is, not, an, accid, it, is, hard, wo...</td>\n",
              "    </tr>\n",
              "    <tr>\n",
              "      <th>3</th>\n",
              "      <td>try your best everyday</td>\n",
              "      <td>1</td>\n",
              "      <td>[try, your, best, everyday]</td>\n",
              "      <td>[tri, your, best, everyday]</td>\n",
              "    </tr>\n",
              "    <tr>\n",
              "      <th>4</th>\n",
              "      <td>right now is the moment to get started.</td>\n",
              "      <td>1</td>\n",
              "      <td>[right, now, is, the, moment, to, get, started]</td>\n",
              "      <td>[right, now, is, the, moment, to, get, start]</td>\n",
              "    </tr>\n",
              "  </tbody>\n",
              "</table>\n",
              "</div>"
            ],
            "text/plain": [
              "                                           Sentences  ...                                      stemmed_words\n",
              "0                   hard work is the key to success.  ...            [hard, work, is, the, key, to, success]\n",
              "1              keep panicking, keep being miserable.  ...                    [keep, panick, keep, be, miser]\n",
              "2  success is not an accident, it is hard work, p...  ...  [success, is, not, an, accid, it, is, hard, wo...\n",
              "3                             try your best everyday  ...                        [tri, your, best, everyday]\n",
              "4            right now is the moment to get started.  ...      [right, now, is, the, moment, to, get, start]\n",
              "\n",
              "[5 rows x 4 columns]"
            ]
          },
          "metadata": {
            "tags": []
          },
          "execution_count": 126
        }
      ]
    },
    {
      "cell_type": "code",
      "metadata": {
        "id": "D1A_MKX6VWAj",
        "colab_type": "code",
        "colab": {
          "base_uri": "https://localhost:8080/",
          "height": 67
        },
        "outputId": "783d957c-1357-4b2d-ad10-706b90015b34"
      },
      "source": [
        "import nltk\n",
        "nltk.download('stopwords')"
      ],
      "execution_count": 127,
      "outputs": [
        {
          "output_type": "stream",
          "text": [
            "[nltk_data] Downloading package stopwords to /root/nltk_data...\n",
            "[nltk_data]   Package stopwords is already up-to-date!\n"
          ],
          "name": "stdout"
        },
        {
          "output_type": "execute_result",
          "data": {
            "text/plain": [
              "True"
            ]
          },
          "metadata": {
            "tags": []
          },
          "execution_count": 127
        }
      ]
    },
    {
      "cell_type": "code",
      "metadata": {
        "id": "q6yDqTMATvR0",
        "colab_type": "code",
        "colab": {}
      },
      "source": [
        "from nltk.corpus import stopwords\n",
        "stops = set(stopwords.words(\"english\")) "
      ],
      "execution_count": 128,
      "outputs": []
    },
    {
      "cell_type": "code",
      "metadata": {
        "id": "6CLLffZqTvMq",
        "colab_type": "code",
        "colab": {}
      },
      "source": [
        "def remove_stops(row):\n",
        "    my_list = row['stemmed_words']\n",
        "    meaningful_words = [w for w in my_list if not w in stops]\n",
        "    return (meaningful_words)\n",
        "\n",
        "data['stem_meaningful'] = data.apply(remove_stops, axis=1)"
      ],
      "execution_count": 129,
      "outputs": []
    },
    {
      "cell_type": "code",
      "metadata": {
        "id": "oALROt7XVf6D",
        "colab_type": "code",
        "colab": {
          "base_uri": "https://localhost:8080/",
          "height": 195
        },
        "outputId": "568e2563-e2d1-45bf-f62e-0458cf881cf9"
      },
      "source": [
        "data.head()"
      ],
      "execution_count": 130,
      "outputs": [
        {
          "output_type": "execute_result",
          "data": {
            "text/html": [
              "<div>\n",
              "<style scoped>\n",
              "    .dataframe tbody tr th:only-of-type {\n",
              "        vertical-align: middle;\n",
              "    }\n",
              "\n",
              "    .dataframe tbody tr th {\n",
              "        vertical-align: top;\n",
              "    }\n",
              "\n",
              "    .dataframe thead th {\n",
              "        text-align: right;\n",
              "    }\n",
              "</style>\n",
              "<table border=\"1\" class=\"dataframe\">\n",
              "  <thead>\n",
              "    <tr style=\"text-align: right;\">\n",
              "      <th></th>\n",
              "      <th>Sentences</th>\n",
              "      <th>Output</th>\n",
              "      <th>words</th>\n",
              "      <th>stemmed_words</th>\n",
              "      <th>stem_meaningful</th>\n",
              "    </tr>\n",
              "  </thead>\n",
              "  <tbody>\n",
              "    <tr>\n",
              "      <th>0</th>\n",
              "      <td>hard work is the key to success.</td>\n",
              "      <td>1</td>\n",
              "      <td>[hard, work, is, the, key, to, success]</td>\n",
              "      <td>[hard, work, is, the, key, to, success]</td>\n",
              "      <td>[hard, work, key, success]</td>\n",
              "    </tr>\n",
              "    <tr>\n",
              "      <th>1</th>\n",
              "      <td>keep panicking, keep being miserable.</td>\n",
              "      <td>0</td>\n",
              "      <td>[keep, panicking, keep, being, miserable]</td>\n",
              "      <td>[keep, panick, keep, be, miser]</td>\n",
              "      <td>[keep, panick, keep, miser]</td>\n",
              "    </tr>\n",
              "    <tr>\n",
              "      <th>2</th>\n",
              "      <td>success is not an accident, it is hard work, p...</td>\n",
              "      <td>1</td>\n",
              "      <td>[success, is, not, an, accident, it, is, hard,...</td>\n",
              "      <td>[success, is, not, an, accid, it, is, hard, wo...</td>\n",
              "      <td>[success, accid, hard, work, persever, learn, ...</td>\n",
              "    </tr>\n",
              "    <tr>\n",
              "      <th>3</th>\n",
              "      <td>try your best everyday</td>\n",
              "      <td>1</td>\n",
              "      <td>[try, your, best, everyday]</td>\n",
              "      <td>[tri, your, best, everyday]</td>\n",
              "      <td>[tri, best, everyday]</td>\n",
              "    </tr>\n",
              "    <tr>\n",
              "      <th>4</th>\n",
              "      <td>right now is the moment to get started.</td>\n",
              "      <td>1</td>\n",
              "      <td>[right, now, is, the, moment, to, get, started]</td>\n",
              "      <td>[right, now, is, the, moment, to, get, start]</td>\n",
              "      <td>[right, moment, get, start]</td>\n",
              "    </tr>\n",
              "  </tbody>\n",
              "</table>\n",
              "</div>"
            ],
            "text/plain": [
              "                                           Sentences  ...                                    stem_meaningful\n",
              "0                   hard work is the key to success.  ...                         [hard, work, key, success]\n",
              "1              keep panicking, keep being miserable.  ...                        [keep, panick, keep, miser]\n",
              "2  success is not an accident, it is hard work, p...  ...  [success, accid, hard, work, persever, learn, ...\n",
              "3                             try your best everyday  ...                              [tri, best, everyday]\n",
              "4            right now is the moment to get started.  ...                        [right, moment, get, start]\n",
              "\n",
              "[5 rows x 5 columns]"
            ]
          },
          "metadata": {
            "tags": []
          },
          "execution_count": 130
        }
      ]
    },
    {
      "cell_type": "code",
      "metadata": {
        "id": "QF5opUNXVh0S",
        "colab_type": "code",
        "colab": {
          "base_uri": "https://localhost:8080/",
          "height": 246
        },
        "outputId": "bcb47d92-25ff-4b6e-9789-cc3e15e54945"
      },
      "source": [
        "def rejoin_words(row):\n",
        "    my_list = row['stem_meaningful']\n",
        "    joined_words = ( \" \".join(my_list))\n",
        "    return joined_words\n",
        "\n",
        "data['processed'] = data.apply(rejoin_words, axis=1)\n",
        "data.head()"
      ],
      "execution_count": 131,
      "outputs": [
        {
          "output_type": "execute_result",
          "data": {
            "text/html": [
              "<div>\n",
              "<style scoped>\n",
              "    .dataframe tbody tr th:only-of-type {\n",
              "        vertical-align: middle;\n",
              "    }\n",
              "\n",
              "    .dataframe tbody tr th {\n",
              "        vertical-align: top;\n",
              "    }\n",
              "\n",
              "    .dataframe thead th {\n",
              "        text-align: right;\n",
              "    }\n",
              "</style>\n",
              "<table border=\"1\" class=\"dataframe\">\n",
              "  <thead>\n",
              "    <tr style=\"text-align: right;\">\n",
              "      <th></th>\n",
              "      <th>Sentences</th>\n",
              "      <th>Output</th>\n",
              "      <th>words</th>\n",
              "      <th>stemmed_words</th>\n",
              "      <th>stem_meaningful</th>\n",
              "      <th>processed</th>\n",
              "    </tr>\n",
              "  </thead>\n",
              "  <tbody>\n",
              "    <tr>\n",
              "      <th>0</th>\n",
              "      <td>hard work is the key to success.</td>\n",
              "      <td>1</td>\n",
              "      <td>[hard, work, is, the, key, to, success]</td>\n",
              "      <td>[hard, work, is, the, key, to, success]</td>\n",
              "      <td>[hard, work, key, success]</td>\n",
              "      <td>hard work key success</td>\n",
              "    </tr>\n",
              "    <tr>\n",
              "      <th>1</th>\n",
              "      <td>keep panicking, keep being miserable.</td>\n",
              "      <td>0</td>\n",
              "      <td>[keep, panicking, keep, being, miserable]</td>\n",
              "      <td>[keep, panick, keep, be, miser]</td>\n",
              "      <td>[keep, panick, keep, miser]</td>\n",
              "      <td>keep panick keep miser</td>\n",
              "    </tr>\n",
              "    <tr>\n",
              "      <th>2</th>\n",
              "      <td>success is not an accident, it is hard work, p...</td>\n",
              "      <td>1</td>\n",
              "      <td>[success, is, not, an, accident, it, is, hard,...</td>\n",
              "      <td>[success, is, not, an, accid, it, is, hard, wo...</td>\n",
              "      <td>[success, accid, hard, work, persever, learn, ...</td>\n",
              "      <td>success accid hard work persever learn studi s...</td>\n",
              "    </tr>\n",
              "    <tr>\n",
              "      <th>3</th>\n",
              "      <td>try your best everyday</td>\n",
              "      <td>1</td>\n",
              "      <td>[try, your, best, everyday]</td>\n",
              "      <td>[tri, your, best, everyday]</td>\n",
              "      <td>[tri, best, everyday]</td>\n",
              "      <td>tri best everyday</td>\n",
              "    </tr>\n",
              "    <tr>\n",
              "      <th>4</th>\n",
              "      <td>right now is the moment to get started.</td>\n",
              "      <td>1</td>\n",
              "      <td>[right, now, is, the, moment, to, get, started]</td>\n",
              "      <td>[right, now, is, the, moment, to, get, start]</td>\n",
              "      <td>[right, moment, get, start]</td>\n",
              "      <td>right moment get start</td>\n",
              "    </tr>\n",
              "  </tbody>\n",
              "</table>\n",
              "</div>"
            ],
            "text/plain": [
              "                                           Sentences  ...                                          processed\n",
              "0                   hard work is the key to success.  ...                              hard work key success\n",
              "1              keep panicking, keep being miserable.  ...                             keep panick keep miser\n",
              "2  success is not an accident, it is hard work, p...  ...  success accid hard work persever learn studi s...\n",
              "3                             try your best everyday  ...                                  tri best everyday\n",
              "4            right now is the moment to get started.  ...                             right moment get start\n",
              "\n",
              "[5 rows x 6 columns]"
            ]
          },
          "metadata": {
            "tags": []
          },
          "execution_count": 131
        }
      ]
    },
    {
      "cell_type": "code",
      "metadata": {
        "id": "2UehLPcLVpz1",
        "colab_type": "code",
        "colab": {
          "base_uri": "https://localhost:8080/",
          "height": 195
        },
        "outputId": "63f2e731-4d98-46ce-c00d-7f981cc10003"
      },
      "source": [
        "df=data[['processed','Output']]\n",
        "df.head()"
      ],
      "execution_count": 132,
      "outputs": [
        {
          "output_type": "execute_result",
          "data": {
            "text/html": [
              "<div>\n",
              "<style scoped>\n",
              "    .dataframe tbody tr th:only-of-type {\n",
              "        vertical-align: middle;\n",
              "    }\n",
              "\n",
              "    .dataframe tbody tr th {\n",
              "        vertical-align: top;\n",
              "    }\n",
              "\n",
              "    .dataframe thead th {\n",
              "        text-align: right;\n",
              "    }\n",
              "</style>\n",
              "<table border=\"1\" class=\"dataframe\">\n",
              "  <thead>\n",
              "    <tr style=\"text-align: right;\">\n",
              "      <th></th>\n",
              "      <th>processed</th>\n",
              "      <th>Output</th>\n",
              "    </tr>\n",
              "  </thead>\n",
              "  <tbody>\n",
              "    <tr>\n",
              "      <th>0</th>\n",
              "      <td>hard work key success</td>\n",
              "      <td>1</td>\n",
              "    </tr>\n",
              "    <tr>\n",
              "      <th>1</th>\n",
              "      <td>keep panick keep miser</td>\n",
              "      <td>0</td>\n",
              "    </tr>\n",
              "    <tr>\n",
              "      <th>2</th>\n",
              "      <td>success accid hard work persever learn studi s...</td>\n",
              "      <td>1</td>\n",
              "    </tr>\n",
              "    <tr>\n",
              "      <th>3</th>\n",
              "      <td>tri best everyday</td>\n",
              "      <td>1</td>\n",
              "    </tr>\n",
              "    <tr>\n",
              "      <th>4</th>\n",
              "      <td>right moment get start</td>\n",
              "      <td>1</td>\n",
              "    </tr>\n",
              "  </tbody>\n",
              "</table>\n",
              "</div>"
            ],
            "text/plain": [
              "                                           processed  Output\n",
              "0                              hard work key success       1\n",
              "1                             keep panick keep miser       0\n",
              "2  success accid hard work persever learn studi s...       1\n",
              "3                                  tri best everyday       1\n",
              "4                             right moment get start       1"
            ]
          },
          "metadata": {
            "tags": []
          },
          "execution_count": 132
        }
      ]
    },
    {
      "cell_type": "code",
      "metadata": {
        "id": "W6wTTkwcV5Rp",
        "colab_type": "code",
        "colab": {}
      },
      "source": [
        "from nltk.stem import WordNetLemmatizer \n",
        "lemmatizer = WordNetLemmatizer() "
      ],
      "execution_count": 133,
      "outputs": []
    },
    {
      "cell_type": "code",
      "metadata": {
        "id": "CBLvgQcHZE5e",
        "colab_type": "code",
        "colab": {
          "base_uri": "https://localhost:8080/",
          "height": 67
        },
        "outputId": "e42f0421-7940-4ba0-d0f6-f88549461f2f"
      },
      "source": [
        "import nltk\n",
        "nltk.download('wordnet')"
      ],
      "execution_count": 134,
      "outputs": [
        {
          "output_type": "stream",
          "text": [
            "[nltk_data] Downloading package wordnet to /root/nltk_data...\n",
            "[nltk_data]   Package wordnet is already up-to-date!\n"
          ],
          "name": "stdout"
        },
        {
          "output_type": "execute_result",
          "data": {
            "text/plain": [
              "True"
            ]
          },
          "metadata": {
            "tags": []
          },
          "execution_count": 134
        }
      ]
    },
    {
      "cell_type": "code",
      "metadata": {
        "id": "Vx-g8-QMYgUv",
        "colab_type": "code",
        "colab": {
          "base_uri": "https://localhost:8080/",
          "height": 262
        },
        "outputId": "a37c954a-267f-49b4-c33c-6430f5ffcb24"
      },
      "source": [
        "def lem_list(row):\n",
        "    my_list = row['words']\n",
        "    stemmed_list = [lemmatizer.lemmatize(word) for word in my_list]\n",
        "    return (stemmed_list)\n",
        "\n",
        "data['lemmetized_words'] = data.apply(lem_list, axis=1)\n",
        "data.head()"
      ],
      "execution_count": 135,
      "outputs": [
        {
          "output_type": "execute_result",
          "data": {
            "text/html": [
              "<div>\n",
              "<style scoped>\n",
              "    .dataframe tbody tr th:only-of-type {\n",
              "        vertical-align: middle;\n",
              "    }\n",
              "\n",
              "    .dataframe tbody tr th {\n",
              "        vertical-align: top;\n",
              "    }\n",
              "\n",
              "    .dataframe thead th {\n",
              "        text-align: right;\n",
              "    }\n",
              "</style>\n",
              "<table border=\"1\" class=\"dataframe\">\n",
              "  <thead>\n",
              "    <tr style=\"text-align: right;\">\n",
              "      <th></th>\n",
              "      <th>Sentences</th>\n",
              "      <th>Output</th>\n",
              "      <th>words</th>\n",
              "      <th>stemmed_words</th>\n",
              "      <th>stem_meaningful</th>\n",
              "      <th>processed</th>\n",
              "      <th>lemmetized_words</th>\n",
              "    </tr>\n",
              "  </thead>\n",
              "  <tbody>\n",
              "    <tr>\n",
              "      <th>0</th>\n",
              "      <td>hard work is the key to success.</td>\n",
              "      <td>1</td>\n",
              "      <td>[hard, work, is, the, key, to, success]</td>\n",
              "      <td>[hard, work, is, the, key, to, success]</td>\n",
              "      <td>[hard, work, key, success]</td>\n",
              "      <td>hard work key success</td>\n",
              "      <td>[hard, work, is, the, key, to, success]</td>\n",
              "    </tr>\n",
              "    <tr>\n",
              "      <th>1</th>\n",
              "      <td>keep panicking, keep being miserable.</td>\n",
              "      <td>0</td>\n",
              "      <td>[keep, panicking, keep, being, miserable]</td>\n",
              "      <td>[keep, panick, keep, be, miser]</td>\n",
              "      <td>[keep, panick, keep, miser]</td>\n",
              "      <td>keep panick keep miser</td>\n",
              "      <td>[keep, panicking, keep, being, miserable]</td>\n",
              "    </tr>\n",
              "    <tr>\n",
              "      <th>2</th>\n",
              "      <td>success is not an accident, it is hard work, p...</td>\n",
              "      <td>1</td>\n",
              "      <td>[success, is, not, an, accident, it, is, hard,...</td>\n",
              "      <td>[success, is, not, an, accid, it, is, hard, wo...</td>\n",
              "      <td>[success, accid, hard, work, persever, learn, ...</td>\n",
              "      <td>success accid hard work persever learn studi s...</td>\n",
              "      <td>[success, is, not, an, accident, it, is, hard,...</td>\n",
              "    </tr>\n",
              "    <tr>\n",
              "      <th>3</th>\n",
              "      <td>try your best everyday</td>\n",
              "      <td>1</td>\n",
              "      <td>[try, your, best, everyday]</td>\n",
              "      <td>[tri, your, best, everyday]</td>\n",
              "      <td>[tri, best, everyday]</td>\n",
              "      <td>tri best everyday</td>\n",
              "      <td>[try, your, best, everyday]</td>\n",
              "    </tr>\n",
              "    <tr>\n",
              "      <th>4</th>\n",
              "      <td>right now is the moment to get started.</td>\n",
              "      <td>1</td>\n",
              "      <td>[right, now, is, the, moment, to, get, started]</td>\n",
              "      <td>[right, now, is, the, moment, to, get, start]</td>\n",
              "      <td>[right, moment, get, start]</td>\n",
              "      <td>right moment get start</td>\n",
              "      <td>[right, now, is, the, moment, to, get, started]</td>\n",
              "    </tr>\n",
              "  </tbody>\n",
              "</table>\n",
              "</div>"
            ],
            "text/plain": [
              "                                           Sentences  ...                                   lemmetized_words\n",
              "0                   hard work is the key to success.  ...            [hard, work, is, the, key, to, success]\n",
              "1              keep panicking, keep being miserable.  ...          [keep, panicking, keep, being, miserable]\n",
              "2  success is not an accident, it is hard work, p...  ...  [success, is, not, an, accident, it, is, hard,...\n",
              "3                             try your best everyday  ...                        [try, your, best, everyday]\n",
              "4            right now is the moment to get started.  ...    [right, now, is, the, moment, to, get, started]\n",
              "\n",
              "[5 rows x 7 columns]"
            ]
          },
          "metadata": {
            "tags": []
          },
          "execution_count": 135
        }
      ]
    },
    {
      "cell_type": "code",
      "metadata": {
        "id": "S0scNo65Yg8q",
        "colab_type": "code",
        "colab": {
          "base_uri": "https://localhost:8080/",
          "height": 262
        },
        "outputId": "14c93c72-57ca-4e7a-ab99-47ea823d92c0"
      },
      "source": [
        "def remove_stops2(row):\n",
        "    my_list2 = row['lemmetized_words']\n",
        "    meaningful_words2 = [w for w in my_list2 if not w in stops]\n",
        "    return (meaningful_words2)\n",
        "\n",
        "data['lem_meaningful'] = data.apply(remove_stops2, axis=1)\n",
        "data.head()"
      ],
      "execution_count": 136,
      "outputs": [
        {
          "output_type": "execute_result",
          "data": {
            "text/html": [
              "<div>\n",
              "<style scoped>\n",
              "    .dataframe tbody tr th:only-of-type {\n",
              "        vertical-align: middle;\n",
              "    }\n",
              "\n",
              "    .dataframe tbody tr th {\n",
              "        vertical-align: top;\n",
              "    }\n",
              "\n",
              "    .dataframe thead th {\n",
              "        text-align: right;\n",
              "    }\n",
              "</style>\n",
              "<table border=\"1\" class=\"dataframe\">\n",
              "  <thead>\n",
              "    <tr style=\"text-align: right;\">\n",
              "      <th></th>\n",
              "      <th>Sentences</th>\n",
              "      <th>Output</th>\n",
              "      <th>words</th>\n",
              "      <th>stemmed_words</th>\n",
              "      <th>stem_meaningful</th>\n",
              "      <th>processed</th>\n",
              "      <th>lemmetized_words</th>\n",
              "      <th>lem_meaningful</th>\n",
              "    </tr>\n",
              "  </thead>\n",
              "  <tbody>\n",
              "    <tr>\n",
              "      <th>0</th>\n",
              "      <td>hard work is the key to success.</td>\n",
              "      <td>1</td>\n",
              "      <td>[hard, work, is, the, key, to, success]</td>\n",
              "      <td>[hard, work, is, the, key, to, success]</td>\n",
              "      <td>[hard, work, key, success]</td>\n",
              "      <td>hard work key success</td>\n",
              "      <td>[hard, work, is, the, key, to, success]</td>\n",
              "      <td>[hard, work, key, success]</td>\n",
              "    </tr>\n",
              "    <tr>\n",
              "      <th>1</th>\n",
              "      <td>keep panicking, keep being miserable.</td>\n",
              "      <td>0</td>\n",
              "      <td>[keep, panicking, keep, being, miserable]</td>\n",
              "      <td>[keep, panick, keep, be, miser]</td>\n",
              "      <td>[keep, panick, keep, miser]</td>\n",
              "      <td>keep panick keep miser</td>\n",
              "      <td>[keep, panicking, keep, being, miserable]</td>\n",
              "      <td>[keep, panicking, keep, miserable]</td>\n",
              "    </tr>\n",
              "    <tr>\n",
              "      <th>2</th>\n",
              "      <td>success is not an accident, it is hard work, p...</td>\n",
              "      <td>1</td>\n",
              "      <td>[success, is, not, an, accident, it, is, hard,...</td>\n",
              "      <td>[success, is, not, an, accid, it, is, hard, wo...</td>\n",
              "      <td>[success, accid, hard, work, persever, learn, ...</td>\n",
              "      <td>success accid hard work persever learn studi s...</td>\n",
              "      <td>[success, is, not, an, accident, it, is, hard,...</td>\n",
              "      <td>[success, accident, hard, work, perseverance, ...</td>\n",
              "    </tr>\n",
              "    <tr>\n",
              "      <th>3</th>\n",
              "      <td>try your best everyday</td>\n",
              "      <td>1</td>\n",
              "      <td>[try, your, best, everyday]</td>\n",
              "      <td>[tri, your, best, everyday]</td>\n",
              "      <td>[tri, best, everyday]</td>\n",
              "      <td>tri best everyday</td>\n",
              "      <td>[try, your, best, everyday]</td>\n",
              "      <td>[try, best, everyday]</td>\n",
              "    </tr>\n",
              "    <tr>\n",
              "      <th>4</th>\n",
              "      <td>right now is the moment to get started.</td>\n",
              "      <td>1</td>\n",
              "      <td>[right, now, is, the, moment, to, get, started]</td>\n",
              "      <td>[right, now, is, the, moment, to, get, start]</td>\n",
              "      <td>[right, moment, get, start]</td>\n",
              "      <td>right moment get start</td>\n",
              "      <td>[right, now, is, the, moment, to, get, started]</td>\n",
              "      <td>[right, moment, get, started]</td>\n",
              "    </tr>\n",
              "  </tbody>\n",
              "</table>\n",
              "</div>"
            ],
            "text/plain": [
              "                                           Sentences  ...                                     lem_meaningful\n",
              "0                   hard work is the key to success.  ...                         [hard, work, key, success]\n",
              "1              keep panicking, keep being miserable.  ...                 [keep, panicking, keep, miserable]\n",
              "2  success is not an accident, it is hard work, p...  ...  [success, accident, hard, work, perseverance, ...\n",
              "3                             try your best everyday  ...                              [try, best, everyday]\n",
              "4            right now is the moment to get started.  ...                      [right, moment, get, started]\n",
              "\n",
              "[5 rows x 8 columns]"
            ]
          },
          "metadata": {
            "tags": []
          },
          "execution_count": 136
        }
      ]
    },
    {
      "cell_type": "code",
      "metadata": {
        "id": "vuR8JwjAYhC2",
        "colab_type": "code",
        "colab": {
          "base_uri": "https://localhost:8080/",
          "height": 330
        },
        "outputId": "b8756a4e-5467-4e61-afdd-30383bfc9aa4"
      },
      "source": [
        "def rejoin_words2(row):\n",
        "    my_list = row['lem_meaningful']\n",
        "    joined_words = ( \" \".join(my_list))\n",
        "    return joined_words\n",
        "\n",
        "data['processed_f'] = data.apply(rejoin_words2, axis=1)\n",
        "data.head()"
      ],
      "execution_count": 137,
      "outputs": [
        {
          "output_type": "execute_result",
          "data": {
            "text/html": [
              "<div>\n",
              "<style scoped>\n",
              "    .dataframe tbody tr th:only-of-type {\n",
              "        vertical-align: middle;\n",
              "    }\n",
              "\n",
              "    .dataframe tbody tr th {\n",
              "        vertical-align: top;\n",
              "    }\n",
              "\n",
              "    .dataframe thead th {\n",
              "        text-align: right;\n",
              "    }\n",
              "</style>\n",
              "<table border=\"1\" class=\"dataframe\">\n",
              "  <thead>\n",
              "    <tr style=\"text-align: right;\">\n",
              "      <th></th>\n",
              "      <th>Sentences</th>\n",
              "      <th>Output</th>\n",
              "      <th>words</th>\n",
              "      <th>stemmed_words</th>\n",
              "      <th>stem_meaningful</th>\n",
              "      <th>processed</th>\n",
              "      <th>lemmetized_words</th>\n",
              "      <th>lem_meaningful</th>\n",
              "      <th>processed_f</th>\n",
              "    </tr>\n",
              "  </thead>\n",
              "  <tbody>\n",
              "    <tr>\n",
              "      <th>0</th>\n",
              "      <td>hard work is the key to success.</td>\n",
              "      <td>1</td>\n",
              "      <td>[hard, work, is, the, key, to, success]</td>\n",
              "      <td>[hard, work, is, the, key, to, success]</td>\n",
              "      <td>[hard, work, key, success]</td>\n",
              "      <td>hard work key success</td>\n",
              "      <td>[hard, work, is, the, key, to, success]</td>\n",
              "      <td>[hard, work, key, success]</td>\n",
              "      <td>hard work key success</td>\n",
              "    </tr>\n",
              "    <tr>\n",
              "      <th>1</th>\n",
              "      <td>keep panicking, keep being miserable.</td>\n",
              "      <td>0</td>\n",
              "      <td>[keep, panicking, keep, being, miserable]</td>\n",
              "      <td>[keep, panick, keep, be, miser]</td>\n",
              "      <td>[keep, panick, keep, miser]</td>\n",
              "      <td>keep panick keep miser</td>\n",
              "      <td>[keep, panicking, keep, being, miserable]</td>\n",
              "      <td>[keep, panicking, keep, miserable]</td>\n",
              "      <td>keep panicking keep miserable</td>\n",
              "    </tr>\n",
              "    <tr>\n",
              "      <th>2</th>\n",
              "      <td>success is not an accident, it is hard work, p...</td>\n",
              "      <td>1</td>\n",
              "      <td>[success, is, not, an, accident, it, is, hard,...</td>\n",
              "      <td>[success, is, not, an, accid, it, is, hard, wo...</td>\n",
              "      <td>[success, accid, hard, work, persever, learn, ...</td>\n",
              "      <td>success accid hard work persever learn studi s...</td>\n",
              "      <td>[success, is, not, an, accident, it, is, hard,...</td>\n",
              "      <td>[success, accident, hard, work, perseverance, ...</td>\n",
              "      <td>success accident hard work perseverance learni...</td>\n",
              "    </tr>\n",
              "    <tr>\n",
              "      <th>3</th>\n",
              "      <td>try your best everyday</td>\n",
              "      <td>1</td>\n",
              "      <td>[try, your, best, everyday]</td>\n",
              "      <td>[tri, your, best, everyday]</td>\n",
              "      <td>[tri, best, everyday]</td>\n",
              "      <td>tri best everyday</td>\n",
              "      <td>[try, your, best, everyday]</td>\n",
              "      <td>[try, best, everyday]</td>\n",
              "      <td>try best everyday</td>\n",
              "    </tr>\n",
              "    <tr>\n",
              "      <th>4</th>\n",
              "      <td>right now is the moment to get started.</td>\n",
              "      <td>1</td>\n",
              "      <td>[right, now, is, the, moment, to, get, started]</td>\n",
              "      <td>[right, now, is, the, moment, to, get, start]</td>\n",
              "      <td>[right, moment, get, start]</td>\n",
              "      <td>right moment get start</td>\n",
              "      <td>[right, now, is, the, moment, to, get, started]</td>\n",
              "      <td>[right, moment, get, started]</td>\n",
              "      <td>right moment get started</td>\n",
              "    </tr>\n",
              "  </tbody>\n",
              "</table>\n",
              "</div>"
            ],
            "text/plain": [
              "                                           Sentences  ...                                        processed_f\n",
              "0                   hard work is the key to success.  ...                              hard work key success\n",
              "1              keep panicking, keep being miserable.  ...                      keep panicking keep miserable\n",
              "2  success is not an accident, it is hard work, p...  ...  success accident hard work perseverance learni...\n",
              "3                             try your best everyday  ...                                  try best everyday\n",
              "4            right now is the moment to get started.  ...                           right moment get started\n",
              "\n",
              "[5 rows x 9 columns]"
            ]
          },
          "metadata": {
            "tags": []
          },
          "execution_count": 137
        }
      ]
    },
    {
      "cell_type": "code",
      "metadata": {
        "id": "CsKgbHRLYhHz",
        "colab_type": "code",
        "colab": {
          "base_uri": "https://localhost:8080/",
          "height": 195
        },
        "outputId": "96b1d197-812f-4824-f4f1-26b72e4e6da7"
      },
      "source": [
        "df2=data[['processed_f','Output']]\n",
        "df2.head()"
      ],
      "execution_count": 138,
      "outputs": [
        {
          "output_type": "execute_result",
          "data": {
            "text/html": [
              "<div>\n",
              "<style scoped>\n",
              "    .dataframe tbody tr th:only-of-type {\n",
              "        vertical-align: middle;\n",
              "    }\n",
              "\n",
              "    .dataframe tbody tr th {\n",
              "        vertical-align: top;\n",
              "    }\n",
              "\n",
              "    .dataframe thead th {\n",
              "        text-align: right;\n",
              "    }\n",
              "</style>\n",
              "<table border=\"1\" class=\"dataframe\">\n",
              "  <thead>\n",
              "    <tr style=\"text-align: right;\">\n",
              "      <th></th>\n",
              "      <th>processed_f</th>\n",
              "      <th>Output</th>\n",
              "    </tr>\n",
              "  </thead>\n",
              "  <tbody>\n",
              "    <tr>\n",
              "      <th>0</th>\n",
              "      <td>hard work key success</td>\n",
              "      <td>1</td>\n",
              "    </tr>\n",
              "    <tr>\n",
              "      <th>1</th>\n",
              "      <td>keep panicking keep miserable</td>\n",
              "      <td>0</td>\n",
              "    </tr>\n",
              "    <tr>\n",
              "      <th>2</th>\n",
              "      <td>success accident hard work perseverance learni...</td>\n",
              "      <td>1</td>\n",
              "    </tr>\n",
              "    <tr>\n",
              "      <th>3</th>\n",
              "      <td>try best everyday</td>\n",
              "      <td>1</td>\n",
              "    </tr>\n",
              "    <tr>\n",
              "      <th>4</th>\n",
              "      <td>right moment get started</td>\n",
              "      <td>1</td>\n",
              "    </tr>\n",
              "  </tbody>\n",
              "</table>\n",
              "</div>"
            ],
            "text/plain": [
              "                                         processed_f  Output\n",
              "0                              hard work key success       1\n",
              "1                      keep panicking keep miserable       0\n",
              "2  success accident hard work perseverance learni...       1\n",
              "3                                  try best everyday       1\n",
              "4                           right moment get started       1"
            ]
          },
          "metadata": {
            "tags": []
          },
          "execution_count": 138
        }
      ]
    },
    {
      "cell_type": "code",
      "metadata": {
        "id": "_FFsVjCbYhKt",
        "colab_type": "code",
        "colab": {}
      },
      "source": [
        "from sklearn.feature_extraction.text import CountVectorizer\n",
        "vectorizer = CountVectorizer()"
      ],
      "execution_count": 139,
      "outputs": []
    },
    {
      "cell_type": "code",
      "metadata": {
        "id": "35-aikEeOJez",
        "colab_type": "code",
        "colab": {
          "base_uri": "https://localhost:8080/",
          "height": 34
        },
        "outputId": "c4ab3dad-faad-47fb-a894-44dd29e3e788"
      },
      "source": [
        "sentences=df2['processed_f'].values\n",
        "y=df2['Output'].values\n",
        "print(sentences.shape, y.shape)"
      ],
      "execution_count": 146,
      "outputs": [
        {
          "output_type": "stream",
          "text": [
            "(50,) (50,)\n"
          ],
          "name": "stdout"
        }
      ]
    },
    {
      "cell_type": "code",
      "metadata": {
        "id": "aPLfZU4J_REK",
        "colab_type": "code",
        "colab": {}
      },
      "source": [
        "from sklearn.model_selection import train_test_split\n",
        "sentences_train, sentences_test, y_train, y_test = train_test_split(sentences, y, test_size=0.20, random_state=123)"
      ],
      "execution_count": 147,
      "outputs": []
    },
    {
      "cell_type": "code",
      "metadata": {
        "id": "9amWBt4IQigs",
        "colab_type": "code",
        "colab": {}
      },
      "source": [
        "vectorizer = CountVectorizer()\n",
        "vectorizer.fit(sentences_train)\n",
        "X_train = vectorizer.transform(sentences_train)\n",
        "X_test  = vectorizer.transform(sentences_test)"
      ],
      "execution_count": 148,
      "outputs": []
    },
    {
      "cell_type": "code",
      "metadata": {
        "id": "cxxGDTJERVm6",
        "colab_type": "code",
        "colab": {
          "base_uri": "https://localhost:8080/",
          "height": 171
        },
        "outputId": "fb9f0d95-534c-4f1f-844b-9aa9a29a24ed"
      },
      "source": [
        "X_train\n",
        "print(X_train.toarray())\n",
        "print(vectorizer.get_feature_names())"
      ],
      "execution_count": 149,
      "outputs": [
        {
          "output_type": "stream",
          "text": [
            "[[0 0 0 ... 0 0 0]\n",
            " [0 0 0 ... 0 0 0]\n",
            " [0 0 0 ... 0 0 0]\n",
            " ...\n",
            " [0 0 0 ... 0 0 0]\n",
            " [1 0 0 ... 0 0 0]\n",
            " [0 0 0 ... 0 0 0]]\n",
            "['accident', 'achieved', 'always', 'anything', 'anyway', 'attitude', 'bad', 'best', 'big', 'coming', 'confident', 'cry', 'day', 'death', 'demotivated', 'destination', 'done', 'dream', 'early', 'eat', 'ego', 'else', 'enjoy', 'escape', 'ever', 'everybody', 'everyday', 'everyone', 'fit', 'focus', 'forever', 'get', 'give', 'goal', 'going', 'good', 'happen', 'happiness', 'hard', 'harder', 'help', 'jealous', 'journey', 'keep', 'key', 'kind', 'last', 'late', 'laziness', 'lazy', 'learning', 'life', 'limit', 'live', 'love', 'lying', 'make', 'matter', 'miserable', 'moment', 'never', 'one', 'others', 'panicking', 'perseverance', 'plan', 'positive', 'push', 'respect', 'right', 'sacrifice', 'sad', 'show', 'sleep', 'sleeping', 'something', 'start', 'started', 'stay', 'studying', 'succeed', 'success', 'successful', 'suck', 'sweat', 'sympathy', 'temporary', 'thing', 'time', 'try', 'wake', 'want', 'win', 'wish', 'without', 'word', 'work', 'worse', 'worth', 'yes', 'yesterday']\n"
          ],
          "name": "stdout"
        }
      ]
    },
    {
      "cell_type": "code",
      "metadata": {
        "id": "_p2HEwQLRwKC",
        "colab_type": "code",
        "colab": {
          "base_uri": "https://localhost:8080/",
          "height": 1000
        },
        "outputId": "236dd644-b76b-4188-f1c1-7aa09499a60d"
      },
      "source": [
        "vectorizer.vocabulary_"
      ],
      "execution_count": 150,
      "outputs": [
        {
          "output_type": "execute_result",
          "data": {
            "text/plain": [
              "{'accident': 0,\n",
              " 'achieved': 1,\n",
              " 'always': 2,\n",
              " 'anything': 3,\n",
              " 'anyway': 4,\n",
              " 'attitude': 5,\n",
              " 'bad': 6,\n",
              " 'best': 7,\n",
              " 'big': 8,\n",
              " 'coming': 9,\n",
              " 'confident': 10,\n",
              " 'cry': 11,\n",
              " 'day': 12,\n",
              " 'death': 13,\n",
              " 'demotivated': 14,\n",
              " 'destination': 15,\n",
              " 'done': 16,\n",
              " 'dream': 17,\n",
              " 'early': 18,\n",
              " 'eat': 19,\n",
              " 'ego': 20,\n",
              " 'else': 21,\n",
              " 'enjoy': 22,\n",
              " 'escape': 23,\n",
              " 'ever': 24,\n",
              " 'everybody': 25,\n",
              " 'everyday': 26,\n",
              " 'everyone': 27,\n",
              " 'fit': 28,\n",
              " 'focus': 29,\n",
              " 'forever': 30,\n",
              " 'get': 31,\n",
              " 'give': 32,\n",
              " 'goal': 33,\n",
              " 'going': 34,\n",
              " 'good': 35,\n",
              " 'happen': 36,\n",
              " 'happiness': 37,\n",
              " 'hard': 38,\n",
              " 'harder': 39,\n",
              " 'help': 40,\n",
              " 'jealous': 41,\n",
              " 'journey': 42,\n",
              " 'keep': 43,\n",
              " 'key': 44,\n",
              " 'kind': 45,\n",
              " 'last': 46,\n",
              " 'late': 47,\n",
              " 'laziness': 48,\n",
              " 'lazy': 49,\n",
              " 'learning': 50,\n",
              " 'life': 51,\n",
              " 'limit': 52,\n",
              " 'live': 53,\n",
              " 'love': 54,\n",
              " 'lying': 55,\n",
              " 'make': 56,\n",
              " 'matter': 57,\n",
              " 'miserable': 58,\n",
              " 'moment': 59,\n",
              " 'never': 60,\n",
              " 'one': 61,\n",
              " 'others': 62,\n",
              " 'panicking': 63,\n",
              " 'perseverance': 64,\n",
              " 'plan': 65,\n",
              " 'positive': 66,\n",
              " 'push': 67,\n",
              " 'respect': 68,\n",
              " 'right': 69,\n",
              " 'sacrifice': 70,\n",
              " 'sad': 71,\n",
              " 'show': 72,\n",
              " 'sleep': 73,\n",
              " 'sleeping': 74,\n",
              " 'something': 75,\n",
              " 'start': 76,\n",
              " 'started': 77,\n",
              " 'stay': 78,\n",
              " 'studying': 79,\n",
              " 'succeed': 80,\n",
              " 'success': 81,\n",
              " 'successful': 82,\n",
              " 'suck': 83,\n",
              " 'sweat': 84,\n",
              " 'sympathy': 85,\n",
              " 'temporary': 86,\n",
              " 'thing': 87,\n",
              " 'time': 88,\n",
              " 'try': 89,\n",
              " 'wake': 90,\n",
              " 'want': 91,\n",
              " 'win': 92,\n",
              " 'wish': 93,\n",
              " 'without': 94,\n",
              " 'word': 95,\n",
              " 'work': 96,\n",
              " 'worse': 97,\n",
              " 'worth': 98,\n",
              " 'yes': 99,\n",
              " 'yesterday': 100}"
            ]
          },
          "metadata": {
            "tags": []
          },
          "execution_count": 150
        }
      ]
    },
    {
      "cell_type": "code",
      "metadata": {
        "id": "trv9Z0LoQBkP",
        "colab_type": "code",
        "colab": {}
      },
      "source": [
        "from keras.models import Sequential\n",
        "from keras.layers import Dense, Activation, Flatten"
      ],
      "execution_count": 151,
      "outputs": []
    },
    {
      "cell_type": "code",
      "metadata": {
        "id": "_aGx8BqGOJjr",
        "colab_type": "code",
        "colab": {}
      },
      "source": [
        "input_dim = X_train.shape[1]\n",
        "model = Sequential()\n",
        "model.add(Dense(48, input_dim=input_dim, activation='relu'))\n",
        "model.add(Dense(12, activation='relu'))\n",
        "model.add(Dense(8, activation='relu'))\n",
        "model.add(Dense(1, activation='sigmoid'))"
      ],
      "execution_count": 156,
      "outputs": []
    },
    {
      "cell_type": "code",
      "metadata": {
        "id": "iu83ViX-OJpb",
        "colab_type": "code",
        "colab": {
          "base_uri": "https://localhost:8080/",
          "height": 302
        },
        "outputId": "09bac451-e172-465d-a840-5aefbeaf3974"
      },
      "source": [
        "model.compile(loss = 'binary_crossentropy', optimizer='adam',metrics = ['accuracy'])\n",
        "print(model.summary())"
      ],
      "execution_count": 157,
      "outputs": [
        {
          "output_type": "stream",
          "text": [
            "Model: \"sequential_8\"\n",
            "_________________________________________________________________\n",
            "Layer (type)                 Output Shape              Param #   \n",
            "=================================================================\n",
            "dense_24 (Dense)             (None, 48)                4896      \n",
            "_________________________________________________________________\n",
            "dense_25 (Dense)             (None, 12)                588       \n",
            "_________________________________________________________________\n",
            "dense_26 (Dense)             (None, 8)                 104       \n",
            "_________________________________________________________________\n",
            "dense_27 (Dense)             (None, 1)                 9         \n",
            "=================================================================\n",
            "Total params: 5,597\n",
            "Trainable params: 5,597\n",
            "Non-trainable params: 0\n",
            "_________________________________________________________________\n",
            "None\n"
          ],
          "name": "stdout"
        }
      ]
    },
    {
      "cell_type": "code",
      "metadata": {
        "id": "SKfU-QqTOJnd",
        "colab_type": "code",
        "colab": {
          "base_uri": "https://localhost:8080/",
          "height": 521
        },
        "outputId": "e3595cee-db13-48a3-e944-6f05f00dcf01"
      },
      "source": [
        "history = model.fit(X_train,y_train,\n",
        "                    epochs=15,\n",
        "                    verbose=True,\n",
        "                    validation_data=(X_test, y_test),\n",
        "                    batch_size=5)"
      ],
      "execution_count": 158,
      "outputs": [
        {
          "output_type": "stream",
          "text": [
            "Epoch 1/15\n",
            "8/8 [==============================] - 0s 14ms/step - loss: 0.6844 - accuracy: 0.5500 - val_loss: 0.7058 - val_accuracy: 0.4000\n",
            "Epoch 2/15\n",
            "8/8 [==============================] - 0s 2ms/step - loss: 0.6710 - accuracy: 0.5500 - val_loss: 0.7061 - val_accuracy: 0.4000\n",
            "Epoch 3/15\n",
            "8/8 [==============================] - 0s 3ms/step - loss: 0.6600 - accuracy: 0.5500 - val_loss: 0.7061 - val_accuracy: 0.4000\n",
            "Epoch 4/15\n",
            "8/8 [==============================] - 0s 3ms/step - loss: 0.6487 - accuracy: 0.5750 - val_loss: 0.7065 - val_accuracy: 0.4000\n",
            "Epoch 5/15\n",
            "8/8 [==============================] - 0s 2ms/step - loss: 0.6369 - accuracy: 0.6000 - val_loss: 0.7062 - val_accuracy: 0.4000\n",
            "Epoch 6/15\n",
            "8/8 [==============================] - 0s 2ms/step - loss: 0.6248 - accuracy: 0.6250 - val_loss: 0.7081 - val_accuracy: 0.4000\n",
            "Epoch 7/15\n",
            "8/8 [==============================] - 0s 2ms/step - loss: 0.6101 - accuracy: 0.6750 - val_loss: 0.7081 - val_accuracy: 0.4000\n",
            "Epoch 8/15\n",
            "8/8 [==============================] - 0s 2ms/step - loss: 0.5954 - accuracy: 0.7250 - val_loss: 0.7081 - val_accuracy: 0.4000\n",
            "Epoch 9/15\n",
            "8/8 [==============================] - 0s 2ms/step - loss: 0.5794 - accuracy: 0.7250 - val_loss: 0.7080 - val_accuracy: 0.4000\n",
            "Epoch 10/15\n",
            "8/8 [==============================] - 0s 2ms/step - loss: 0.5637 - accuracy: 0.7250 - val_loss: 0.7079 - val_accuracy: 0.4000\n",
            "Epoch 11/15\n",
            "8/8 [==============================] - 0s 3ms/step - loss: 0.5446 - accuracy: 0.7250 - val_loss: 0.7065 - val_accuracy: 0.4000\n",
            "Epoch 12/15\n",
            "8/8 [==============================] - 0s 4ms/step - loss: 0.5265 - accuracy: 0.7250 - val_loss: 0.7096 - val_accuracy: 0.4000\n",
            "Epoch 13/15\n",
            "8/8 [==============================] - 0s 3ms/step - loss: 0.5050 - accuracy: 0.7750 - val_loss: 0.7082 - val_accuracy: 0.5000\n",
            "Epoch 14/15\n",
            "8/8 [==============================] - 0s 4ms/step - loss: 0.4847 - accuracy: 0.8250 - val_loss: 0.7081 - val_accuracy: 0.5000\n",
            "Epoch 15/15\n",
            "8/8 [==============================] - 0s 4ms/step - loss: 0.4632 - accuracy: 0.8250 - val_loss: 0.7054 - val_accuracy: 0.5000\n"
          ],
          "name": "stdout"
        }
      ]
    },
    {
      "cell_type": "code",
      "metadata": {
        "id": "OmlFe8XdAaaB",
        "colab_type": "code",
        "colab": {
          "base_uri": "https://localhost:8080/",
          "height": 50
        },
        "outputId": "6079d0ed-499a-4467-a52f-db3d9c6b942b"
      },
      "source": [
        "loss, accuracy = model.evaluate(X_train, y_train, verbose=False)\n",
        "print(\"Training Accuracy: {:.4f}\".format(accuracy))\n",
        "loss, accuracy = model.evaluate(X_test, y_test, verbose=False)\n",
        "print(\"Testing Accuracy:  {:.4f}\".format(accuracy))"
      ],
      "execution_count": 160,
      "outputs": [
        {
          "output_type": "stream",
          "text": [
            "Training Accuracy: 0.9000\n",
            "Testing Accuracy:  0.5000\n"
          ],
          "name": "stdout"
        }
      ]
    },
    {
      "cell_type": "code",
      "metadata": {
        "id": "sYotEOyiOJh4",
        "colab_type": "code",
        "colab": {}
      },
      "source": [
        "import matplotlib.pyplot as plt\n",
        "\n",
        "def plot_history(history):\n",
        "    acc = history.history['accuracy']\n",
        "    val_acc = history.history['val_accuracy']\n",
        "    loss = history.history['loss']\n",
        "    val_loss = history.history['val_loss']\n",
        "    x = range(1, len(acc) + 1)\n",
        "\n",
        "    plt.figure(figsize=(12, 5))\n",
        "    plt.subplot(1, 2, 1)\n",
        "    plt.plot(x, acc, 'b', label='Training Acc')\n",
        "    plt.plot(x, val_acc, 'r', label='Validation Acc')\n",
        "    plt.title('Training and Validation Accuracy')\n",
        "    plt.legend()\n",
        "    plt.subplot(1, 2, 2)\n",
        "    plt.plot(x, loss, 'b', label='Training Loss')\n",
        "    plt.plot(x, val_loss, 'r', label='Validation Loss')\n",
        "    plt.title('Training and Validation Loss')\n",
        "    plt.legend()"
      ],
      "execution_count": 168,
      "outputs": []
    },
    {
      "cell_type": "code",
      "metadata": {
        "id": "x92cQVs9OJdA",
        "colab_type": "code",
        "colab": {
          "base_uri": "https://localhost:8080/",
          "height": 336
        },
        "outputId": "122b4a2c-d3bf-455b-e1b3-881a840110b7"
      },
      "source": [
        "plot_history(history)"
      ],
      "execution_count": 169,
      "outputs": [
        {
          "output_type": "display_data",
          "data": {
            "image/png": "[encoded data removed]",
            "text/plain": [
              "<Figure size 864x360 with 2 Axes>"
            ]
          },
          "metadata": {
            "tags": [],
            "needs_background": "light"
          }
        }
      ]
    },
    {
      "cell_type": "code",
      "metadata": {
        "id": "tPTAfz471nk2",
        "colab_type": "code",
        "colab": {}
      },
      "source": [
        "from keras.preprocessing.text import Tokenizer\n",
        "from keras.preprocessing.sequence import pad_sequences"
      ],
      "execution_count": 174,
      "outputs": []
    },
    {
      "cell_type": "code",
      "metadata": {
        "id": "eiRTElik1nnc",
        "colab_type": "code",
        "colab": {}
      },
      "source": [
        "def pred(txt):\n",
        "  tokenizer = Tokenizer(num_words = 101, filters='')\n",
        "  seq = tokenizer.texts_to_sequences([txt])\n",
        "  padded = pad_sequences(seq, maxlen = 101)\n",
        "  pred = model.predict(padded)\n",
        "  if(pred>0.5):\n",
        "    print(\"'\",txt,\"'\",\"is a Motivational Quote.\")\n",
        "  else:\n",
        "    print(\"'\",txt,\"'\",\"is a Demotivational Quote.\")"
      ],
      "execution_count": 181,
      "outputs": []
    },
    {
      "cell_type": "code",
      "metadata": {
        "id": "orThCLC81njP",
        "colab_type": "code",
        "colab": {
          "base_uri": "https://localhost:8080/",
          "height": 50
        },
        "outputId": "7b73b9ae-e36c-4289-9965-ce19c96df759"
      },
      "source": [
        "pred(\"Work hard and smart to be successful\")\n",
        "pred(\"Stay positive and work hard\")"
      ],
      "execution_count": 182,
      "outputs": [
        {
          "output_type": "stream",
          "text": [
            "' Work hard and smart to be successful ' is a Motivational Quote.\n",
            "' Stay positive and work hard ' is a Motivational Quote.\n"
          ],
          "name": "stdout"
        }
      ]
    },
    {
      "cell_type": "code",
      "metadata": {
        "id": "97-jOT73CR_K",
        "colab_type": "code",
        "colab": {}
      },
      "source": [
        ""
      ],
      "execution_count": null,
      "outputs": []
    }
  ]
}